{
  "nbformat": 4,
  "nbformat_minor": 0,
  "metadata": {
    "colab": {
      "provenance": []
    },
    "kernelspec": {
      "name": "python3",
      "display_name": "Python 3"
    },
    "language_info": {
      "name": "python"
    }
  },
  "cells": [
    {
      "cell_type": "code",
      "execution_count": 7,
      "metadata": {
        "id": "neK2M1BOd2MG"
      },
      "outputs": [],
      "source": [
        "from keras.models import Model\n",
        "from keras.layers import  Input , Conv2D , MaxPooling2D , UpSampling2D , concatenate , Conv2DTranspose , BatchNormalization\n",
        "from keras.optimizers import Adam\n",
        "from keras.layers import Activation , MaxPool2D ,Concatenate\n"
      ]
    },
    {
      "cell_type": "code",
      "source": [
        "def conv_block(input , num_filter):\n",
        "  x = Conv2D(num_filter, 3 , padding = \"same\")(input)\n",
        "  x =  BatchNormalization()(x)\n",
        "  x = Activation(\"relu\")(x)#right arrow movment 1\n",
        "  x = Conv2D(num_filter, 3 , padding = \"same\")(x)\n",
        "  x =  BatchNormalization()(x)\n",
        "  x = Activation(\"relu\")(x)#right arrow movment\n",
        "\n",
        "  return x\n"
      ],
      "metadata": {
        "id": "aida0yveeog7"
      },
      "execution_count": 8,
      "outputs": []
    },
    {
      "cell_type": "code",
      "source": [
        "#alternate without batchNormalization\n",
        "# def conv_block(input, num_filters):\n",
        "#   x = Conv2D(num_filters, 3 ,padding = \"same\" , Activation = \"relu\" )(input)\n",
        "#   x = Conv2D(num_filters, 3 ,padding = \"same\" , Activation = \"relu\" )(x)\n",
        "#   return x\n"
      ],
      "metadata": {
        "id": "-QsXHv5mf3nm"
      },
      "execution_count": 9,
      "outputs": []
    },
    {
      "cell_type": "code",
      "source": [
        "def encoder_block(input , num_filters):\n",
        "  s = conv_block(input , num_filters) #ouput from  last layer of a block\n",
        "  p = MaxPooling2D((2,2))(s) #maxpooling to provide to next block\n",
        "  return s , p"
      ],
      "metadata": {
        "id": "BguAkfNAgg33"
      },
      "execution_count": 14,
      "outputs": []
    },
    {
      "cell_type": "code",
      "source": [
        "def decoder_block(input , skip_features , num_filters):#input : input array from previus block ,; skip _featurs , output from previous  layer of encoder block attached to decoder\n",
        "  #upsampling:\n",
        "  x = Conv2DTranspose(num_filters , (2,2) , strides = 2 , padding = \"same\")(input)#stride = 2 denotes doubling the size of input while upsampling\n",
        "  #concatenating\n",
        "  x = Concatenate()([x , skip_features])\n",
        "   # convoluting to right\n",
        "  x = conv_block(x , num_filters)\n",
        "  return x"
      ],
      "metadata": {
        "id": "CmnGW8jNhiB7"
      },
      "execution_count": 18,
      "outputs": []
    },
    {
      "cell_type": "code",
      "source": [
        "# Input_shape = 128\n",
        "def build_model(Input_shape):\n",
        "  inputs = Input(Input_shape)\n",
        "  s1 , p1 = encoder_block(inputs , 64)\n",
        "  s2 , p2 = encoder_block(p1 , 128)\n",
        "  s3 , p3 = encoder_block(p2 , 256)\n",
        "  s4 , p4 = encoder_block(p3 , 512)\n",
        "\n",
        "  b1 = conv_block(p4 , 1024) #base layer\n",
        "\n",
        "  d1 = decoder_block(b1 , s4 , 512)\n",
        "  d2 = decoder_block(d1 , s3 , 256)\n",
        "  d3 = decoder_block(d2 , s2 , 128)\n",
        "  d4 = decoder_block(d3 , s1 , 64)\n",
        "\n",
        "  #final output layer\n",
        "  outputs = Conv2D(1,1 , padding = \"same\" , activation = \"sigmoid\")(d4)\n",
        "  model = Model (inputs , outputs , name = \"U-net\")\n",
        "  return model\n",
        "\n"
      ],
      "metadata": {
        "id": "FJYmv7zii3Nd"
      },
      "execution_count": 22,
      "outputs": []
    },
    {
      "cell_type": "code",
      "source": [],
      "metadata": {
        "colab": {
          "base_uri": "https://localhost:8080/",
          "height": 141
        },
        "id": "VDuh-78gksoR",
        "outputId": "02b446b6-bece-4fdc-f096-f090b6ab438c"
      },
      "execution_count": 21,
      "outputs": [
        {
          "output_type": "error",
          "ename": "NameError",
          "evalue": "name 'model' is not defined",
          "traceback": [
            "\u001b[0;31m---------------------------------------------------------------------------\u001b[0m",
            "\u001b[0;31mNameError\u001b[0m                                 Traceback (most recent call last)",
            "\u001b[0;32m<ipython-input-21-5f15418b3570>\u001b[0m in \u001b[0;36m<cell line: 1>\u001b[0;34m()\u001b[0m\n\u001b[0;32m----> 1\u001b[0;31m \u001b[0mmodel\u001b[0m\u001b[0;34m.\u001b[0m\u001b[0msummary\u001b[0m\u001b[0;34m(\u001b[0m\u001b[0;34m)\u001b[0m\u001b[0;34m\u001b[0m\u001b[0;34m\u001b[0m\u001b[0m\n\u001b[0m",
            "\u001b[0;31mNameError\u001b[0m: name 'model' is not defined"
          ]
        }
      ]
    },
    {
      "cell_type": "code",
      "source": [],
      "metadata": {
        "id": "WIpO1vD-mNk0"
      },
      "execution_count": null,
      "outputs": []
    }
  ]
}